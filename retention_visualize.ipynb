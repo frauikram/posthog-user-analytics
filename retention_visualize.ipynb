{
 "cells": [
  {
   "cell_type": "code",
   "execution_count": null,
   "id": "00768463",
   "metadata": {},
   "outputs": [
    {
     "data": {
      "text/plain": [
       "'outputs/retention_heatmap.png'"
      ]
     },
     "execution_count": 4,
     "metadata": {},
     "output_type": "execute_result"
    }
   ],
   "source": [
    "import pandas as pd\n",
    "import seaborn as sns\n",
    "import matplotlib.pyplot as plt\n",
    "import os\n",
    "\n",
    "# Simulated cohort data\n",
    "data = {\n",
    "    'signup_week': ['2024-01-01', '2024-01-01', '2024-01-01', '2024-01-08', '2024-01-08'],\n",
    "    'activity_week': ['2024-01-01', '2024-01-08', '2024-01-15', '2024-01-08', '2024-01-15'],\n",
    "    'retained_users': [100, 60, 30, 80, 40]\n",
    "}\n",
    "df = pd.DataFrame(data)\n",
    "df['signup_week'] = pd.to_datetime(df['signup_week'])\n",
    "df['activity_week'] = pd.to_datetime(df['activity_week'])\n",
    "\n",
    "# Calculate cohort index\n",
    "df['cohort_week'] = ((df['activity_week'] - df['signup_week']) / pd.Timedelta(weeks=1)).astype(int)\n",
    "\n",
    "# Pivot table for heatmap\n",
    "cohort_pivot = df.pivot_table(\n",
    "    index='signup_week',\n",
    "    columns='cohort_week',\n",
    "    values='retained_users',\n",
    "    fill_value=0\n",
    ").sort_index()  # Ensures Y-axis is ordered\n",
    "\n",
    "\n",
    "# Plotting\n",
    "plt.figure(figsize=(10, 6))\n",
    "cohort_pivot = cohort_pivot.astype(int)\n",
    "ax = sns.heatmap(cohort_pivot, annot=True, fmt='d', cmap='YlGnBu')\n",
    "\n",
    "# Format Y-axis labels\n",
    "ax.set_yticks(range(len(cohort_pivot.index)))\n",
    "ax.set_yticklabels([d.strftime('%Y-%m-%d') for d in cohort_pivot.index])\n",
    "\n",
    "plt.title('User Retention Cohort Heatmap')\n",
    "plt.xlabel('Weeks Since Signup')\n",
    "plt.ylabel('Signup Week')\n",
    "plt.tight_layout()\n",
    "\n",
    "# Save to file\n",
    "os.makedirs('outputs', exist_ok=True)\n",
    "heatmap_path = 'outputs/retention_heatmap.png'\n",
    "plt.savefig(heatmap_path)\n",
    "plt.close()\n",
    "\n",
    "heatmap_path"
   ]
  }
 ],
 "metadata": {
  "kernelspec": {
   "display_name": "posthog-user-analytics-V4YdrRGG",
   "language": "python",
   "name": "python3"
  },
  "language_info": {
   "codemirror_mode": {
    "name": "ipython",
    "version": 3
   },
   "file_extension": ".py",
   "mimetype": "text/x-python",
   "name": "python",
   "nbconvert_exporter": "python",
   "pygments_lexer": "ipython3",
   "version": "3.12.0"
  }
 },
 "nbformat": 4,
 "nbformat_minor": 5
}
